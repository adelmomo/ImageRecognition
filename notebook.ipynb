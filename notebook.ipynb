{
 "cells": [
  {
   "cell_type": "code",
   "execution_count": 2,
   "metadata": {},
   "outputs": [],
   "source": [
    "import tensorflow as tf\n",
    "tf.keras.backend.set_image_data_format(\"channels_first\")\n",
    "tf.keras.backend.clear_session()"
   ]
  },
  {
   "cell_type": "code",
   "execution_count": null,
   "metadata": {},
   "outputs": [],
   "source": [
    "backbone=tf.keras.applications.mobilenet.MobileNet(\n",
    "    input_shape=(3,224,224),\n",
    "    include_top=True,\n",
    "    weights='imagenet',\n",
    "    classes=1000,\n",
    "    classifier_activation='softmax'\n",
    ")\n",
    "tensor= tf.keras.applications.mobilenet.preprocess_input(backbone.input)\n",
    "out=backbone(tensor)\n",
    "model=tf.keras.Model(backbone.input,out)\n",
    "model.save('classifier')\n"
   ]
  },
  {
   "cell_type": "code",
   "execution_count": null,
   "metadata": {},
   "outputs": [],
   "source": [
    "!python -m tf2onnx.convert --saved-model classifier --output classifier.onnx --opset 11\n",
    "\n"
   ]
  }
 ],
 "metadata": {
  "kernelspec": {
   "display_name": "fms",
   "language": "python",
   "name": "python3"
  },
  "language_info": {
   "codemirror_mode": {
    "name": "ipython",
    "version": 3
   },
   "file_extension": ".py",
   "mimetype": "text/x-python",
   "name": "python",
   "nbconvert_exporter": "python",
   "pygments_lexer": "ipython3",
   "version": "3.7.11"
  }
 },
 "nbformat": 4,
 "nbformat_minor": 2
}
